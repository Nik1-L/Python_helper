{
  "nbformat": 4,
  "nbformat_minor": 0,
  "metadata": {
    "colab": {
      "name": "python_answer.ipynb",
      "provenance": [],
      "collapsed_sections": []
    },
    "kernelspec": {
      "name": "python3",
      "display_name": "Python 3"
    },
    "language_info": {
      "name": "python"
    }
  },
  "cells": [
    {
      "cell_type": "code",
      "metadata": {
        "colab": {
          "base_uri": "https://localhost:8080/"
        },
        "id": "LP_h9UP74-gG",
        "outputId": "40925e68-1544-47f5-c68f-68c03fe158e2"
      },
      "source": [
        "! pip install pytelegrambotapi"
      ],
      "execution_count": null,
      "outputs": [
        {
          "output_type": "stream",
          "name": "stdout",
          "text": [
            "Collecting pytelegrambotapi\n",
            "  Downloading pyTelegramBotAPI-4.0.0.tar.gz (104 kB)\n",
            "\u001b[?25l\r\u001b[K     |███▏                            | 10 kB 19.6 MB/s eta 0:00:01\r\u001b[K     |██████▎                         | 20 kB 23.4 MB/s eta 0:00:01\r\u001b[K     |█████████▍                      | 30 kB 25.1 MB/s eta 0:00:01\r\u001b[K     |████████████▋                   | 40 kB 26.3 MB/s eta 0:00:01\r\u001b[K     |███████████████▊                | 51 kB 27.5 MB/s eta 0:00:01\r\u001b[K     |██████████████████▉             | 61 kB 25.7 MB/s eta 0:00:01\r\u001b[K     |██████████████████████          | 71 kB 25.8 MB/s eta 0:00:01\r\u001b[K     |█████████████████████████▏      | 81 kB 27.8 MB/s eta 0:00:01\r\u001b[K     |████████████████████████████▎   | 92 kB 26.5 MB/s eta 0:00:01\r\u001b[K     |███████████████████████████████▌| 102 kB 27.9 MB/s eta 0:00:01\r\u001b[K     |████████████████████████████████| 104 kB 27.9 MB/s \n",
            "\u001b[?25hRequirement already satisfied: requests in /usr/local/lib/python3.7/dist-packages (from pytelegrambotapi) (2.23.0)\n",
            "Requirement already satisfied: urllib3!=1.25.0,!=1.25.1,<1.26,>=1.21.1 in /usr/local/lib/python3.7/dist-packages (from requests->pytelegrambotapi) (1.24.3)\n",
            "Requirement already satisfied: certifi>=2017.4.17 in /usr/local/lib/python3.7/dist-packages (from requests->pytelegrambotapi) (2021.5.30)\n",
            "Requirement already satisfied: chardet<4,>=3.0.2 in /usr/local/lib/python3.7/dist-packages (from requests->pytelegrambotapi) (3.0.4)\n",
            "Requirement already satisfied: idna<3,>=2.5 in /usr/local/lib/python3.7/dist-packages (from requests->pytelegrambotapi) (2.10)\n",
            "Building wheels for collected packages: pytelegrambotapi\n",
            "  Building wheel for pytelegrambotapi (setup.py) ... \u001b[?25l\u001b[?25hdone\n",
            "  Created wheel for pytelegrambotapi: filename=pyTelegramBotAPI-4.0.0-py3-none-any.whl size=79300 sha256=50247cc42266fdbbde539c84c25979e62ee9b66409da6b6d48ac9b324539f9f1\n",
            "  Stored in directory: /root/.cache/pip/wheels/37/0d/f5/48d55810a3b7ba9d3a17d08fad99547bb19988d0bc24836979\n",
            "Successfully built pytelegrambotapi\n",
            "Installing collected packages: pytelegrambotapi\n",
            "Successfully installed pytelegrambotapi-4.0.0\n"
          ]
        }
      ]
    },
    {
      "cell_type": "code",
      "metadata": {
        "id": "0cNGbhP95Edm"
      },
      "source": [
        "import pandas as pd\n",
        "import numpy as np\n",
        "import re\n",
        "from sklearn.feature_extraction.text import TfidfVectorizer\n",
        "from sklearn.metrics import pairwise_distances\n",
        "\n",
        "from nltk import pos_tag\n",
        "from nltk.stem.wordnet import WordNetLemmatizer\n",
        "from nltk import word_tokenize\n",
        "from nltk.corpus import stopwords\n",
        "\n",
        "import telebot\n",
        "from telebot.types import InlineKeyboardMarkup, InlineKeyboardButton"
      ],
      "execution_count": null,
      "outputs": []
    },
    {
      "cell_type": "code",
      "metadata": {
        "colab": {
          "base_uri": "https://localhost:8080/"
        },
        "id": "fnsw3vdaHnqd",
        "outputId": "ce7084d9-64d9-4999-f341-c00b7cac094c"
      },
      "source": [
        "nltk.download('stopwords')\n"
      ],
      "execution_count": null,
      "outputs": [
        {
          "output_type": "stream",
          "name": "stdout",
          "text": [
            "[nltk_data] Downloading package stopwords to /root/nltk_data...\n",
            "[nltk_data]   Unzipping corpora/stopwords.zip.\n"
          ]
        },
        {
          "output_type": "execute_result",
          "data": {
            "text/plain": [
              "True"
            ]
          },
          "metadata": {},
          "execution_count": 45
        }
      ]
    },
    {
      "cell_type": "code",
      "metadata": {
        "id": "7qmUN4rj5HME"
      },
      "source": [
        "df_all = pd.read_excel('GeneralDataset_v.0.xlsx')"
      ],
      "execution_count": null,
      "outputs": []
    },
    {
      "cell_type": "code",
      "metadata": {
        "colab": {
          "base_uri": "https://localhost:8080/",
          "height": 254
        },
        "id": "qkTFrqnO5R3L",
        "outputId": "997527de-784b-46ac-94d0-916cd75ae811"
      },
      "source": [
        "df_all.head()"
      ],
      "execution_count": null,
      "outputs": [
        {
          "output_type": "execute_result",
          "data": {
            "text/html": [
              "<div>\n",
              "<style scoped>\n",
              "    .dataframe tbody tr th:only-of-type {\n",
              "        vertical-align: middle;\n",
              "    }\n",
              "\n",
              "    .dataframe tbody tr th {\n",
              "        vertical-align: top;\n",
              "    }\n",
              "\n",
              "    .dataframe thead th {\n",
              "        text-align: right;\n",
              "    }\n",
              "</style>\n",
              "<table border=\"1\" class=\"dataframe\">\n",
              "  <thead>\n",
              "    <tr style=\"text-align: right;\">\n",
              "      <th></th>\n",
              "      <th>Ques</th>\n",
              "      <th>General_word</th>\n",
              "      <th>Answer</th>\n",
              "    </tr>\n",
              "  </thead>\n",
              "  <tbody>\n",
              "    <tr>\n",
              "      <th>0</th>\n",
              "      <td>Что такое кортеж?</td>\n",
              "      <td>кортеж, tuple, что</td>\n",
              "      <td>Кортеж это неизменяемый список</td>\n",
              "    </tr>\n",
              "    <tr>\n",
              "      <th>1</th>\n",
              "      <td>Зачем нужны кортежи, если есть списки?</td>\n",
              "      <td>кортеж, список, зачем, tuple</td>\n",
              "      <td>Кортеж защищен от изменений, занимает меньше м...</td>\n",
              "    </tr>\n",
              "    <tr>\n",
              "      <th>2</th>\n",
              "      <td>Как создать кортеж?</td>\n",
              "      <td>кортеж, создать, tuple</td>\n",
              "      <td>a = tuple()</td>\n",
              "    </tr>\n",
              "    <tr>\n",
              "      <th>3</th>\n",
              "      <td>Как создать кортеж с одним элементом?</td>\n",
              "      <td>кортеж, создать, элемент, tuple</td>\n",
              "      <td>a = tuple('elem', )</td>\n",
              "    </tr>\n",
              "    <tr>\n",
              "      <th>4</th>\n",
              "      <td>Какие операции поддерживают кортежи</td>\n",
              "      <td>кортеж, операции, tuple</td>\n",
              "      <td>Кортеж поддерживает все операции на</td>\n",
              "    </tr>\n",
              "  </tbody>\n",
              "</table>\n",
              "</div>"
            ],
            "text/plain": [
              "                                     Ques  ...                                             Answer\n",
              "0                       Что такое кортеж?  ...                     Кортеж это неизменяемый список\n",
              "1  Зачем нужны кортежи, если есть списки?  ...  Кортеж защищен от изменений, занимает меньше м...\n",
              "2                     Как создать кортеж?  ...                                        a = tuple()\n",
              "3   Как создать кортеж с одним элементом?  ...                                a = tuple('elem', )\n",
              "4     Какие операции поддерживают кортежи  ...                Кортеж поддерживает все операции на\n",
              "\n",
              "[5 rows x 3 columns]"
            ]
          },
          "metadata": {},
          "execution_count": 56
        }
      ]
    },
    {
      "cell_type": "code",
      "metadata": {
        "id": "qRuDk1eC5TsF"
      },
      "source": [
        "df_all.drop(labels='General_word', axis=1, inplace=True)"
      ],
      "execution_count": null,
      "outputs": []
    },
    {
      "cell_type": "code",
      "metadata": {
        "id": "veV1_1LU5WOw"
      },
      "source": [
        "# функция препроцессинга\n",
        "def preprocessing(text):\n",
        "  text = text.lower()\n",
        "  text = re.sub(r'[-\\(\\)\\\"#\\/@;:<>\\{\\}\\-=~|\\.\\?]', '', text)\n",
        "  text = re.sub(r'\\d','',text)\n",
        "  return text\n",
        "\n",
        "df_all['Ques'] = df_all['Ques'].apply(preprocessing)\n"
      ],
      "execution_count": null,
      "outputs": []
    },
    {
      "cell_type": "code",
      "metadata": {
        "id": "yREMGmFU5mzD"
      },
      "source": [
        "# Лемматизация и избавление от стоп слов\n",
        "def lem_stop(text):\n",
        "  wr_lem = WordNetLemmatizer()\n",
        "  lemma_text = [wr_lem.lemmatize(word) for word in text.split()]\n",
        "  stop_nltk = stopwords.words('russian')\n",
        "  our_stop = ['python', 'питон', 'такое', 'чем', 'почему', 'какие', '']\n",
        "  stop_nltk += our_stop\n",
        "  not_stop_word = [word for word in lemma_text if word not in stop_nltk]\n",
        "  return ' '.join(not_stop_word)\n",
        "\n",
        "\n",
        "df_all['Ques'] = df_all['Ques'].apply(lem_stop)\n"
      ],
      "execution_count": null,
      "outputs": []
    },
    {
      "cell_type": "code",
      "metadata": {
        "colab": {
          "base_uri": "https://localhost:8080/",
          "height": 417
        },
        "id": "rLcsyxCtFy8D",
        "outputId": "d7f50322-767b-40ef-8edb-146dbb99ee17"
      },
      "source": [
        "df_all"
      ],
      "execution_count": null,
      "outputs": [
        {
          "output_type": "execute_result",
          "data": {
            "text/html": [
              "<div>\n",
              "<style scoped>\n",
              "    .dataframe tbody tr th:only-of-type {\n",
              "        vertical-align: middle;\n",
              "    }\n",
              "\n",
              "    .dataframe tbody tr th {\n",
              "        vertical-align: top;\n",
              "    }\n",
              "\n",
              "    .dataframe thead th {\n",
              "        text-align: right;\n",
              "    }\n",
              "</style>\n",
              "<table border=\"1\" class=\"dataframe\">\n",
              "  <thead>\n",
              "    <tr style=\"text-align: right;\">\n",
              "      <th></th>\n",
              "      <th>Ques</th>\n",
              "      <th>Answer</th>\n",
              "    </tr>\n",
              "  </thead>\n",
              "  <tbody>\n",
              "    <tr>\n",
              "      <th>0</th>\n",
              "      <td>кортеж</td>\n",
              "      <td>Кортеж это неизменяемый список</td>\n",
              "    </tr>\n",
              "    <tr>\n",
              "      <th>1</th>\n",
              "      <td>нужны кортежи, списки</td>\n",
              "      <td>Кортеж защищен от изменений, занимает меньше м...</td>\n",
              "    </tr>\n",
              "    <tr>\n",
              "      <th>2</th>\n",
              "      <td>создать кортеж</td>\n",
              "      <td>a = tuple()</td>\n",
              "    </tr>\n",
              "    <tr>\n",
              "      <th>3</th>\n",
              "      <td>создать кортеж одним элементом</td>\n",
              "      <td>a = tuple('elem', )</td>\n",
              "    </tr>\n",
              "    <tr>\n",
              "      <th>4</th>\n",
              "      <td>операции поддерживают кортежи</td>\n",
              "      <td>Кортеж поддерживает все операции на</td>\n",
              "    </tr>\n",
              "    <tr>\n",
              "      <th>...</th>\n",
              "      <td>...</td>\n",
              "      <td>...</td>\n",
              "    </tr>\n",
              "    <tr>\n",
              "      <th>532</th>\n",
              "      <td>pyc py</td>\n",
              "      <td>Чем файл .pyc отличается от .py?  Оба файла со...</td>\n",
              "    </tr>\n",
              "    <tr>\n",
              "      <th>533</th>\n",
              "      <td>объектноориентированный язык программирования</td>\n",
              "      <td>Что делает питон объектно-ориентированным?  Он...</td>\n",
              "    </tr>\n",
              "    <tr>\n",
              "      <th>534</th>\n",
              "      <td>ооп</td>\n",
              "      <td>Что делает питон объектно-ориентированным?  Он...</td>\n",
              "    </tr>\n",
              "    <tr>\n",
              "      <th>535</th>\n",
              "      <td>список</td>\n",
              "      <td>Списки в Python - упорядоченные изменяемые кол...</td>\n",
              "    </tr>\n",
              "    <tr>\n",
              "      <th>536</th>\n",
              "      <td>список</td>\n",
              "      <td>Списки в Python - упорядоченные изменяемые кол...</td>\n",
              "    </tr>\n",
              "  </tbody>\n",
              "</table>\n",
              "<p>537 rows × 2 columns</p>\n",
              "</div>"
            ],
            "text/plain": [
              "                                              Ques                                             Answer\n",
              "0                                           кортеж                     Кортеж это неизменяемый список\n",
              "1                            нужны кортежи, списки  Кортеж защищен от изменений, занимает меньше м...\n",
              "2                                   создать кортеж                                        a = tuple()\n",
              "3                   создать кортеж одним элементом                                a = tuple('elem', )\n",
              "4                    операции поддерживают кортежи                Кортеж поддерживает все операции на\n",
              "..                                             ...                                                ...\n",
              "532                                         pyc py  Чем файл .pyc отличается от .py?  Оба файла со...\n",
              "533  объектноориентированный язык программирования  Что делает питон объектно-ориентированным?  Он...\n",
              "534                                            ооп  Что делает питон объектно-ориентированным?  Он...\n",
              "535                                         список  Списки в Python - упорядоченные изменяемые кол...\n",
              "536                                         список  Списки в Python - упорядоченные изменяемые кол...\n",
              "\n",
              "[537 rows x 2 columns]"
            ]
          },
          "metadata": {},
          "execution_count": 61
        }
      ]
    },
    {
      "cell_type": "code",
      "metadata": {
        "colab": {
          "base_uri": "https://localhost:8080/"
        },
        "id": "_-XqHy3P6XIR",
        "outputId": "0e1e3896-b628-42b3-fc0d-3f66048742d6"
      },
      "source": [
        "# Применим tfidf\n",
        "tfidf = TfidfVectorizer()\n",
        "vec_tfidf = tfidf.fit_transform(df_all['Ques']).toarray()\n",
        "df_tfidf = pd.DataFrame(vec_tfidf, columns=tfidf.get_feature_names())\n",
        "df_tfidf.shape"
      ],
      "execution_count": null,
      "outputs": [
        {
          "output_type": "execute_result",
          "data": {
            "text/plain": [
              "(537, 520)"
            ]
          },
          "metadata": {},
          "execution_count": 63
        }
      ]
    },
    {
      "cell_type": "code",
      "metadata": {
        "id": "EYGF1pZz7ZGk"
      },
      "source": [
        "def tfidf_answer(text):\n",
        "  lemma = preprocessing(text)\n",
        "  tf = tfidf.transform([lemma]).toarray()\n",
        "  cos = 1 - pairwise_distances(df_tfidf, tf, metric='cosine')\n",
        "  value_index = cos.argmax()\n",
        "  return df_all['Answer'].loc[value_index]"
      ],
      "execution_count": null,
      "outputs": []
    },
    {
      "cell_type": "code",
      "metadata": {
        "colab": {
          "base_uri": "https://localhost:8080/",
          "height": 86
        },
        "id": "qblSgxbj-cGZ",
        "outputId": "91368fb3-7302-479f-e681-07698b5660b9"
      },
      "source": [
        "tfidf_answer('Что такое список?')"
      ],
      "execution_count": null,
      "outputs": [
        {
          "output_type": "execute_result",
          "data": {
            "application/vnd.google.colaboratory.intrinsic+json": {
              "type": "string"
            },
            "text/plain": [
              "'Списки в Python - упорядоченные изменяемые коллекции объектов произвольных типов (почти как массив, но типы могут отличаться).  Чтобы использовать списки, их нужно создать. Создать список можно несколькими способами. Например, можно обработать любой итерируемый объект (например, строку) встроенной функцией list:'"
            ]
          },
          "metadata": {},
          "execution_count": 66
        }
      ]
    },
    {
      "cell_type": "code",
      "metadata": {
        "id": "15fV07bo-sQL"
      },
      "source": [
        "API_TOKEN = '1938597563:AAEeUO_PFbg0H_kYvPKiXMGQaXXYT0zZFv0'\n",
        "bot = telebot.TeleBot(API_TOKEN)\n",
        "\n",
        "def gen_markup():\n",
        "    markup = InlineKeyboardMarkup()\n",
        "    markup.row_width = 2\n",
        "    markup.add(InlineKeyboardButton(\"Да\", callback_data=\"cb_yes\"),\n",
        "               InlineKeyboardButton(\"Нет\", callback_data=\"cb_no\"))\n",
        "    return markup\n",
        "\n",
        "\n",
        "@bot.message_handler(commands=['start'])\n",
        "def get_text_messages(message):\n",
        "  if message.text == \"/start\":\n",
        "    bot.send_message(message.from_user.id, \"Привет {}!\\nЯ могу помочь тебе освоить Python.\\nПиши свой вопрос, и я подберу для тебя инфу\".format(message.from_user.first_name))\n",
        "  \n",
        "\n",
        "@bot.message_handler(func=lambda message: True)\n",
        "def get_answer(message):\n",
        "  global google_ques, mes\n",
        "  mes = message \n",
        "  google_ques = message.text.replace('?','').split()\n",
        "  bot.reply_to(message, tfidf_answer(message.text))\n",
        "  bot.send_message(message.chat.id, \"Тебя устроил ответ на вопрос?\", reply_markup=gen_markup())\n",
        "\n",
        "\n",
        "@bot.callback_query_handler(func=lambda call: True)\n",
        "def callback_query(call):\n",
        "    global google_ques, mes\n",
        "    if call.data == \"cb_yes\":\n",
        "        bot.answer_callback_query(call.id, \"Рады были помочь! Можешь задать следующий вопрос.\")\n",
        "    elif call.data == \"cb_no\":\n",
        "        out = 'https://www.google.com/search?q=' + '+'.join(google_ques) + '+Python?'\n",
        "        bot.answer_callback_query(call.id, bot.send_message(mes.chat.id, out))   \n",
        "\n",
        "\n",
        "bot.polling(none_stop=True)"
      ],
      "execution_count": null,
      "outputs": []
    }
  ]
}